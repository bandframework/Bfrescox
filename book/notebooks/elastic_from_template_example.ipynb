{
 "cells": [
  {
   "cell_type": "markdown",
   "id": "25ab9bc6",
   "metadata": {},
   "source": [
    "# Quick Start Guide for Elastic Scattering\n",
    "\n",
    "Let’s start by running {{bfrescox}} on a simple example: proton elastic scattering off a $^{78}$ Ni target at a laboratory energy of 50 MeV. This system is part of the canonical set of examples provided in the [{{fresco}}](https://www.fresco.org.uk/examples/index.html) website.\n",
    "\n",
    "To do this, we’ll make use of the built-in **template** and input generator provided by {{bfrescox}} to set up the reaction and build a full {{frescox}} **input file**."
   ]
  },
  {
   "cell_type": "code",
   "execution_count": 177,
   "id": "f363b325",
   "metadata": {},
   "outputs": [],
   "source": [
    "import matplotlib.pyplot as plt\n",
    "import numpy as np\n",
    "from pathlib import Path\n",
    "import inspect\n",
    "import pandas as pd\n",
    "import json\n",
    "\n",
    "with open(\"MatplotlibEsthetics.json\", \"r\") as fptr:\n",
    "    esthetics = json.load(fptr)\n",
    "\n",
    "plt.style.use(esthetics[\"style\"])\n",
    "FONTSIZE      = esthetics[\"fontsize\"]\n",
    "TICK_FONTSIZE = esthetics[\"tick_fontsize\"]\n",
    "MARKERSIZE    = esthetics[\"markersize\"]\n",
    "LINEWIDTH     = esthetics[\"linewidth\"]"
   ]
  },
  {
   "cell_type": "markdown",
   "id": "2ef19d62",
   "metadata": {},
   "source": [
    "## Generating the {{frescox}} Input\n",
    "\n",
    "The construction of a {{frescox}} **input file** involves two main steps:\n",
    "\n",
    "1. **Create the {{frescox}} template**  \n",
    "   Begin by setting up a **template** that defines the overall scattering system.  \n",
    "   The template is a {{frescox}} namelist file that specifies:\n",
    "   - the projectile and target **masses** and **spins**\n",
    "   - the **laboratory energy**\n",
    "   - the number of **partial waves**\n",
    "   - the **Coulomb radius**\n",
    "\n",
    "   At this stage, the interaction parameters are left as **placeholders** to be filled in later.  \n",
    "\n",
    "\n",
    "2. **Generate the complete {{frescox}} input file**  \n",
    "   Once the **template** is defined and all system properties are specified, you can replace the **placeholder** parameters with their actual numerical values.  \n",
    "   This produces a fully specified **input file** ready to be passed to {{frescox}} for the reaction calculation.\n",
    "\n",
    "\n",
    "For subsequent calculations involving the same reaction system, you only need to perform step&nbsp;2 — reusing the existing **template** and updating the parameter values as needed.\n",
    "\n",
    " Let's see how this works, step by step. Begin by assigning appropriate names to the {{frescox}} **template**, **input** and **output** files."
   ]
  },
  {
   "cell_type": "code",
   "execution_count": 147,
   "id": "6d267e5b",
   "metadata": {},
   "outputs": [],
   "source": [
    "# Name the general template file for your problem\n",
    "template_name = \"78Ni_p_elastic_example.template\"\n",
    "# Name the frescox input file to be generated\n",
    "frescox_input = \"78Ni_p_elastic_example.in\"\n",
    "#Name the frescox output file to be generated (the standard output name)\n",
    "frescox_output = \"78Ni_p_elastic_example.out\""
   ]
  },
  {
   "cell_type": "markdown",
   "id": "dc957231",
   "metadata": {},
   "source": [
    "### 1. Create the {{frescox}} template\n",
    "Now let's define the **masses**, **spins**, **energy**, **number of partial waves**, and **Coulomb radius** of the system, we can do this easily using a Python dictionary.  \n",
    "This information will be used by the `bfrescox.generate_elastic_template()` method to automatically populate the {{frescox}} **template**.\n"
   ]
  },
  {
   "cell_type": "code",
   "execution_count": null,
   "id": "b7d65924",
   "metadata": {},
   "outputs": [],
   "source": [
    "import bfrescox\n",
    "\n",
    "# Define the elastic scattering system\n",
    "configuration_template_elastic =  {\n",
    "          \"mass_t\" : 78,                    # Target mass number\n",
    "          \"charge_t\" : 28,                  # Target charge number\n",
    "          \"spin_t\" : 0,                     # Target spin\n",
    "          \"mass_p\" : 1,                     # Projectile mass number\n",
    "          \"charge_p\" : 1,                   # Projectile charge number\n",
    "          \"spin_p\" : 0.5,                   # Projectile spin\n",
    "          \"E_lab\": 50.0,                    # Laboratory energy in MeV\n",
    "          \"J_tot_min\": 0.0,                 # l_min (partial waves)\n",
    "          \"J_tot_max\": 60.0,                # l_max (partial waves)\n",
    "          \"R_Coulomb\": 1.2,                 # Coulomb radius parameter in fm\n",
    "          \"reaction_name\": \"p+Ni78 Coulomb + Nuclear\"\n",
    "        }\n",
    "\n",
    "\n",
    "# Generate the template for your system and set up the frescox input file\n",
    "bfrescox.generate_elastic_template(\n",
    "                template_name, **configuration_template_elastic\n",
    "            )"
   ]
  },
  {
   "cell_type": "markdown",
   "id": "169d1c68",
   "metadata": {},
   "source": [
    "We now have generate the {{frescox}} **template** for the system! Let's see what this looks like."
   ]
  },
  {
   "cell_type": "code",
   "execution_count": 149,
   "id": "c2f3872e",
   "metadata": {},
   "outputs": [
    {
     "name": "stdout",
     "output_type": "stream",
     "text": [
      "Generated Frescox Template:\n",
      "-----------------------------------\n",
      "p+Ni78 Coulomb + Nuclear\n",
      "NAMELIST\n",
      "&FRESCO hcm=0.1 rmatch=60.0\n",
      "    jtmin=0.0 jtmax=60.0 absend= 0.01\n",
      "  thmin=0.00 thmax=180.00 thinc=1.00\n",
      "    iter=0 ips=0.0 iblock=0 chans=1 smats=2  xstabl=1\n",
      "  wdisk=2\n",
      "    elab(1)=50.0 treneg=1 /\n",
      "\n",
      " &PARTITION namep='projectile' massp=1 zp=1\n",
      "            namet='target'   masst=78 zt=28 qval=-0.000 nex=1  /\n",
      " &STATES jp=0.5 bandp=1 ep=0.0000 cpot=1 jt=0.0 bandt=1 et=0.0 /\n",
      " &partition /\n",
      "\n",
      " &POT kp=1 ap=1 at=78 rc=1.2  /\n",
      " &POT kp=1 type=1  p1=@V@ p2=@r@ p3=@a@ p4=@W@ p5=@rw@ p6=@aw@ /\n",
      " &POT kp=1 type=2  p1=@Vs@ p2=@rs@ p3=@as@ p4=@Ws@ p5=@rws@ p6=@aws@ /\n",
      " &POT kp=1 type=3  p1=@Vso@ p2=@rso@ p3=@aso@ p4=@Wso@ p5=@rwso@ p6=@awso@ /\n",
      "\n",
      " &pot /\n",
      " &overlap /\n",
      " &coupling /\n",
      "\n"
     ]
    }
   ],
   "source": [
    "with open(template_name, \"r\") as temp:\n",
    "    generated_content = temp.read()\n",
    "\n",
    "print(\"Generated Frescox Template:\")\n",
    "print(\"-----------------------------------\")\n",
    "print(generated_content)"
   ]
  },
  {
   "cell_type": "markdown",
   "id": "e4a80a16",
   "metadata": {},
   "source": [
    "Great! All system quantities are now defined and in place for the reaction we want to run. The parameter **placeholders** are put in place, each one is labeled as $ \\texttt{<parameter name>} $ in the **template**.\n",
    "All that is left is to replace the **placeholder** interaction parameters in the template with their actual numerical values. Let's do that next."
   ]
  },
  {
   "cell_type": "markdown",
   "id": "a7902cae",
   "metadata": {},
   "source": [
    "### 2. Generate the complete {{frescox}} **input file**\n",
    "\n",
    "Similar to how we set up our system. We will pass can arrange the parameter values in a Python Dictionary. This information will be used by the ` bfrescox.Configuration.from_template()` method to automatically generate the final {{frescox}} input."
   ]
  },
  {
   "cell_type": "code",
   "execution_count": 150,
   "id": "62150cec",
   "metadata": {},
   "outputs": [],
   "source": [
    "# Define the optical model parameters for elastic scattering\n",
    "parameters_elastic = {\n",
    "                    \"V\": 40.0,\n",
    "                    \"r\": 1.2,\n",
    "                    \"a\": 0.65,\n",
    "                    \"W\": 10.0,\n",
    "                    \"rw\": 1.2,\n",
    "                    \"aw\": 0.5,\n",
    "                    \"Vso\": 0,\n",
    "                    \"rso\": 1.0,\n",
    "                    \"aso\": 0.65,\n",
    "                    \"Wso\": 0,\n",
    "                    \"rwso\": 1.0,\n",
    "                    \"awso\": 0.65,\n",
    "                    \"Vs\": 0,\n",
    "                    \"rs\": 1.2,\n",
    "                    \"as\": 0.5,\n",
    "                    \"Ws\": 0,\n",
    "                    \"rws\": 1.2,\n",
    "                    \"aws\": 0.5 }\n",
    "\n",
    "# Create the frescox input file by filling in the previously generated template with parameters\n",
    "cfg = bfrescox.Configuration.from_template(\n",
    "                    template_name,\n",
    "                    frescox_input,\n",
    "                    parameters_elastic,\n",
    "                    overwrite=True,\n",
    "                )"
   ]
  },
  {
   "cell_type": "markdown",
   "id": "e7c0a640",
   "metadata": {},
   "source": [
    "We now have generate the {{frescox}} **input file** from the **template**! Let's see what this looks like."
   ]
  },
  {
   "cell_type": "code",
   "execution_count": 151,
   "id": "abd6693e",
   "metadata": {},
   "outputs": [
    {
     "name": "stdout",
     "output_type": "stream",
     "text": [
      "Generated Frescox Input:\n",
      "-----------------------------------\n",
      "p+Ni78 Coulomb + Nuclear\n",
      "NAMELIST\n",
      "&FRESCO hcm=0.1 rmatch=60.0\n",
      "    jtmin=0.0 jtmax=60.0 absend= 0.01\n",
      "  thmin=0.00 thmax=180.00 thinc=1.00\n",
      "    iter=0 ips=0.0 iblock=0 chans=1 smats=2  xstabl=1\n",
      "  wdisk=2\n",
      "    elab(1)=50.0 treneg=1 /\n",
      "\n",
      " &PARTITION namep='projectile' massp=1 zp=1\n",
      "            namet='target'   masst=78 zt=28 qval=-0.000 nex=1  /\n",
      " &STATES jp=0.5 bandp=1 ep=0.0000 cpot=1 jt=0.0 bandt=1 et=0.0 /\n",
      " &partition /\n",
      "\n",
      " &POT kp=1 ap=1 at=78 rc=1.2  /\n",
      " &POT kp=1 type=1  p1=40.0 p2=1.2 p3=0.65 p4=10.0 p5=1.2 p6=0.5 /\n",
      " &POT kp=1 type=2  p1=0 p2=1.2 p3=0.5 p4=0 p5=1.2 p6=0.5 /\n",
      " &POT kp=1 type=3  p1=0 p2=1.0 p3=0.65 p4=0 p5=1.0 p6=0.65 /\n",
      "\n",
      " &pot /\n",
      " &overlap /\n",
      " &coupling /\n",
      "\n"
     ]
    }
   ],
   "source": [
    "with open(frescox_input, \"r\") as input:\n",
    "    generated_content = input.read()\n",
    "\n",
    "print(\"Generated Frescox Input:\")\n",
    "print(\"-----------------------------------\")\n",
    "print(generated_content)"
   ]
  },
  {
   "cell_type": "markdown",
   "id": "a1aa62cc",
   "metadata": {},
   "source": [
    "Awesome! We have now generated the {{frescox}} **input file** using the built-in {{bfrescox}} template and input generators."
   ]
  },
  {
   "cell_type": "markdown",
   "id": "aeb29ea3",
   "metadata": {},
   "source": [
    "## Running elastic scattering with {{bfrescox}}\n",
    "\n",
    "Now that we have generated the {{frescox}} **input file**, running the elastic scattering calculation is extremely easy!"
   ]
  },
  {
   "cell_type": "code",
   "execution_count": 160,
   "id": "776fe30a",
   "metadata": {},
   "outputs": [],
   "source": [
    "# Run the frescox simulation\n",
    "bfrescox.run_simulation(cfg, frescox_output, cwd=\".\", overwrite=True)\n"
   ]
  },
  {
   "cell_type": "markdown",
   "id": "ea954b6b",
   "metadata": {},
   "source": [
    "Done! All we need to do is parse the results and extract the physical quantities we want. Let's focus on extracting the cross sections from the **output files**."
   ]
  },
  {
   "cell_type": "markdown",
   "id": "b6a6e05e",
   "metadata": {},
   "source": [
    "## Parsing Elastic Scattering Cross Sections\n",
    "\n",
    "There are several ways to obtain the cross sections. They can be extracted either from the standard {{frescox}} **output file** or from the **fort.16** file.  \n",
    "Currently, {{bfrescox}} retrieves them from the standard {{frescox}} output. It can extract the results either in **mb/sr** or as a **ratio to the Rutherford** cross section (when available).  \n",
    "\n",
    "The extracted cross sections are returned as a DataFrame for convenient analysis and visualization.  \n",
    "\n",
    "Let's extract them for our example case."
   ]
  },
  {
   "cell_type": "code",
   "execution_count": 153,
   "id": "4648cc08",
   "metadata": {},
   "outputs": [],
   "source": [
    "# Parse the frescox output file to extract differential cross section results\n",
    "results_df = bfrescox.parse_differential_xs.absolute_mb_per_sr(\n",
    "                            frescox_output\n",
    "                        )\n",
    "\n",
    "# Can also parse the results as ratio to Rutherford WHEN AVAILABLE\n",
    "results_df_r2r = bfrescox.parse_differential_xs.ratio_to_rutherford(\n",
    "                            frescox_output\n",
    "                        )"
   ]
  },
  {
   "cell_type": "markdown",
   "id": "e406b4e2",
   "metadata": {},
   "source": [
    "Let's see what the cross sections look like!"
   ]
  },
  {
   "cell_type": "code",
   "execution_count": 156,
   "id": "96bd56ae",
   "metadata": {},
   "outputs": [
    {
     "data": {
      "text/html": [
       "<div>\n",
       "<style scoped>\n",
       "    .dataframe tbody tr th:only-of-type {\n",
       "        vertical-align: middle;\n",
       "    }\n",
       "\n",
       "    .dataframe tbody tr th {\n",
       "        vertical-align: top;\n",
       "    }\n",
       "\n",
       "    .dataframe thead th {\n",
       "        text-align: right;\n",
       "    }\n",
       "</style>\n",
       "<table border=\"1\" class=\"dataframe\">\n",
       "  <thead>\n",
       "    <tr style=\"text-align: right;\">\n",
       "      <th></th>\n",
       "      <th>differential_xs_absolute_mb_per_sr</th>\n",
       "    </tr>\n",
       "    <tr>\n",
       "      <th>angle_degrees</th>\n",
       "      <th></th>\n",
       "    </tr>\n",
       "  </thead>\n",
       "  <tbody>\n",
       "    <tr>\n",
       "      <th>0.01</th>\n",
       "      <td>7.188442e+15</td>\n",
       "    </tr>\n",
       "    <tr>\n",
       "      <th>1.00</th>\n",
       "      <td>7.157432e+07</td>\n",
       "    </tr>\n",
       "    <tr>\n",
       "      <th>2.00</th>\n",
       "      <td>4.091815e+06</td>\n",
       "    </tr>\n",
       "    <tr>\n",
       "      <th>3.00</th>\n",
       "      <td>6.918425e+05</td>\n",
       "    </tr>\n",
       "    <tr>\n",
       "      <th>4.00</th>\n",
       "      <td>1.857291e+05</td>\n",
       "    </tr>\n",
       "  </tbody>\n",
       "</table>\n",
       "</div>"
      ],
      "text/plain": [
       "               differential_xs_absolute_mb_per_sr\n",
       "angle_degrees                                    \n",
       "0.01                                 7.188442e+15\n",
       "1.00                                 7.157432e+07\n",
       "2.00                                 4.091815e+06\n",
       "3.00                                 6.918425e+05\n",
       "4.00                                 1.857291e+05"
      ]
     },
     "metadata": {},
     "output_type": "display_data"
    },
    {
     "data": {
      "text/html": [
       "<div>\n",
       "<style scoped>\n",
       "    .dataframe tbody tr th:only-of-type {\n",
       "        vertical-align: middle;\n",
       "    }\n",
       "\n",
       "    .dataframe tbody tr th {\n",
       "        vertical-align: top;\n",
       "    }\n",
       "\n",
       "    .dataframe thead th {\n",
       "        text-align: right;\n",
       "    }\n",
       "</style>\n",
       "<table border=\"1\" class=\"dataframe\">\n",
       "  <thead>\n",
       "    <tr style=\"text-align: right;\">\n",
       "      <th></th>\n",
       "      <th>differential_xs_ratio_to_rutherford</th>\n",
       "    </tr>\n",
       "    <tr>\n",
       "      <th>angle_degrees</th>\n",
       "      <th></th>\n",
       "    </tr>\n",
       "  </thead>\n",
       "  <tbody>\n",
       "    <tr>\n",
       "      <th>0.01</th>\n",
       "      <td>0.999998</td>\n",
       "    </tr>\n",
       "    <tr>\n",
       "      <th>1.00</th>\n",
       "      <td>0.995634</td>\n",
       "    </tr>\n",
       "    <tr>\n",
       "      <th>2.00</th>\n",
       "      <td>0.910568</td>\n",
       "    </tr>\n",
       "    <tr>\n",
       "      <th>3.00</th>\n",
       "      <td>0.779217</td>\n",
       "    </tr>\n",
       "    <tr>\n",
       "      <th>4.00</th>\n",
       "      <td>0.660894</td>\n",
       "    </tr>\n",
       "  </tbody>\n",
       "</table>\n",
       "</div>"
      ],
      "text/plain": [
       "               differential_xs_ratio_to_rutherford\n",
       "angle_degrees                                     \n",
       "0.01                                      0.999998\n",
       "1.00                                      0.995634\n",
       "2.00                                      0.910568\n",
       "3.00                                      0.779217\n",
       "4.00                                      0.660894"
      ]
     },
     "metadata": {},
     "output_type": "display_data"
    }
   ],
   "source": [
    "display(results_df.head())\n",
    "display(results_df_r2r.head())"
   ]
  },
  {
   "cell_type": "markdown",
   "id": "02e46f00",
   "metadata": {},
   "source": [
    "## Visualizing cross sections and benchmarks\n",
    "\n",
    "Now that we have the cross sections in a Dataframe, let's visualize them. We should also make sure that our calculation using the {{bfrescox}} build matches a calculation using the standard {{frescox}} installation. \n",
    "\n",
    "Let's begin looking at the cross sections. "
   ]
  },
  {
   "cell_type": "code",
   "execution_count": 174,
   "id": "47044b38",
   "metadata": {},
   "outputs": [
    {
     "data": {
      "image/png": "[encoded data removed]",
      "text/plain": [
       "<Figure size 600x700 with 2 Axes>"
      ]
     },
     "metadata": {},
     "output_type": "display_data"
    }
   ],
   "source": [
    "# Plot the results\n",
    "angles_deg = results_df.index.to_numpy()\n",
    "diff_xs_mb_per_sr = results_df[\"differential_xs_absolute_mb_per_sr\"].to_numpy()\n",
    "diff_xs_r2r = results_df_r2r[\"differential_xs_ratio_to_rutherford\"].to_numpy()\n",
    "\n",
    "# Create figure and axes that share all axes\n",
    "fig, (ax1, ax2) = plt.subplots(\n",
    "    2, 1, figsize=(6, 7),\n",
    "    sharex=True, sharey=False\n",
    ")\n",
    "plt.subplots_adjust(hspace=0)  # remove gap\n",
    "\n",
    "# Global font size settings for ticks\n",
    "for ax in (ax1, ax2):\n",
    "    ax.tick_params(axis='both', which='major', labelsize=TICK_FONTSIZE)  # increase tick font size\n",
    "    ax.tick_params(axis='both', which='minor', labelsize=TICK_FONTSIZE)  # optional minor tick size\n",
    "\n",
    "\n",
    "ax1.plot(angles_deg, diff_xs_mb_per_sr, lw=2.5, color='blue')\n",
    "ax1.set_yscale('log')\n",
    "ax1.set_ylabel(r\"$\\frac{d\\sigma}{d\\Omega}$ (mb/sr)\", fontsize=FONTSIZE)\n",
    "\n",
    "\n",
    "ax2.plot(angles_deg, diff_xs_r2r, lw=2.5, color='blue')\n",
    "ax2.set_yscale('log')\n",
    "ax2.set_ylabel(r\"$\\frac{d\\sigma}{d\\Omega}$ Ratio to Rutherford\", fontsize=FONTSIZE)\n",
    "ax2.set_xlabel(r\"$\\theta$ (deg)\", fontsize=FONTSIZE)\n",
    "ax1.text(50.0, 1e14, r\"$E_{lab} = 50$ MeV\",\n",
    "        fontsize=FONTSIZE, color='black')\n",
    "\n",
    "\n",
    "plt.show()\n"
   ]
  },
  {
   "cell_type": "markdown",
   "id": "3ca9a660",
   "metadata": {},
   "source": [
    "Great! These look nice. \n",
    "\n",
    "Let's check our {{bfrescox}} results against a standard {{frescox}} installation. Let's load the benchmark results and visualize them against our {{bfrescox}} calculation."
   ]
  },
  {
   "cell_type": "code",
   "execution_count": 154,
   "id": "b5024081",
   "metadata": {},
   "outputs": [],
   "source": [
    "# We can benchmark our results against the results obtained from a standard Frescox installation\n",
    "# Locate BFrescox test data directory\n",
    "data_path = (\n",
    "    Path(inspect.getfile(bfrescox))\n",
    "    .resolve()\n",
    "    .parent\n",
    "    .joinpath(\"tests\", \"TestData\")\n",
    ")\n",
    "\n",
    "# Load the baseline cross section\n",
    "baseline_file = data_path / \"Ni78_p_elastic_PointA_differential_xs_baseline.csv\"\n",
    "expected = np.loadtxt(baseline_file, delimiter=\",\")"
   ]
  },
  {
   "cell_type": "code",
   "execution_count": 176,
   "id": "66de86e1",
   "metadata": {},
   "outputs": [
    {
     "data": {
      "image/png": "[encoded data removed]",
      "text/plain": [
       "<Figure size 600x700 with 2 Axes>"
      ]
     },
     "metadata": {},
     "output_type": "display_data"
    }
   ],
   "source": [
    "# Create figure and axes that share all axes\n",
    "fig, (ax1, ax2) = plt.subplots(\n",
    "    2, 1, figsize=(6, 7),\n",
    "    sharex=True, sharey=False\n",
    ")\n",
    "plt.subplots_adjust(hspace=0)  # remove gap\n",
    "\n",
    "# Global font size settings for ticks\n",
    "for ax in (ax1, ax2):\n",
    "    ax.tick_params(axis='both', which='major', labelsize=TICK_FONTSIZE)  # increase tick font size\n",
    "    ax.tick_params(axis='both', which='minor', labelsize=TICK_FONTSIZE)  # optional minor tick size\n",
    "\n",
    "# Plot differential cross section\n",
    "ax1.plot(angles_deg, diff_xs_mb_per_sr, lw=2.5, color='blue', label='BFrescox Result')\n",
    "ax1.plot(expected[:,0], expected[:,1], lw=2.5, color='red', ls='--', label='Baseline from FrescoX')\n",
    "ax1.set_yscale('log')\n",
    "ax1.set_ylabel(r\"$\\frac{d\\sigma}{d\\Omega}$ (mb/sr)\", fontsize=FONTSIZE)\n",
    "ax1.set_xlabel(r\"$\\theta$ (deg)\", fontsize=FONTSIZE)\n",
    "\n",
    "# Plot differential cross section\n",
    "ax2.plot(angles_deg, np.abs(diff_xs_mb_per_sr- expected[:,1]), lw=2.5, color='blue', label='Error')\n",
    "#ax2.set_yscale('log')\n",
    "ax2.set_ylabel(r\"Absolute Error\", fontsize=FONTSIZE)\n",
    "ax2.set_xlabel(r\"$\\theta$ (deg)\", fontsize=\n",
    "               FONTSIZE)\n",
    "\n",
    "# Add annotation\n",
    "ax1.text(50.0, 1e14, r\"$E_{lab} = 50$ MeV\",\n",
    "         fontsize=15, color='black')\n",
    "\n",
    "plt.legend(fontsize=14)\n",
    "\n",
    "plt.tight_layout()\n",
    "plt.show()"
   ]
  },
  {
   "cell_type": "markdown",
   "id": "a55f44ea",
   "metadata": {},
   "source": [
    "Great! Our {{bfrescox}} calculations match the benchmark results!"
   ]
  },
  {
   "cell_type": "markdown",
   "id": "9408a6fd",
   "metadata": {},
   "source": [
    "## Alternative results parsing\n",
    "You could also parse your own results directly from the desired fort file with a function. For example for fort.16, the {{bfrescox}} package includes a low-level function that loads a significant amount of results not shown above.  Users can access some of this data directly using:"
   ]
  },
  {
   "cell_type": "code",
   "execution_count": 159,
   "id": "59000046",
   "metadata": {},
   "outputs": [
    {
     "data": {
      "text/html": [
       "<div>\n",
       "<style scoped>\n",
       "    .dataframe tbody tr th:only-of-type {\n",
       "        vertical-align: middle;\n",
       "    }\n",
       "\n",
       "    .dataframe tbody tr th {\n",
       "        vertical-align: top;\n",
       "    }\n",
       "\n",
       "    .dataframe thead th {\n",
       "        text-align: right;\n",
       "    }\n",
       "</style>\n",
       "<table border=\"1\" class=\"dataframe\">\n",
       "  <thead>\n",
       "    <tr style=\"text-align: right;\">\n",
       "      <th></th>\n",
       "      <th>Theta</th>\n",
       "      <th>sigma</th>\n",
       "    </tr>\n",
       "  </thead>\n",
       "  <tbody>\n",
       "    <tr>\n",
       "      <th>0</th>\n",
       "      <td>0.01</td>\n",
       "      <td>1.0000</td>\n",
       "    </tr>\n",
       "    <tr>\n",
       "      <th>1</th>\n",
       "      <td>1.00</td>\n",
       "      <td>0.9956</td>\n",
       "    </tr>\n",
       "    <tr>\n",
       "      <th>2</th>\n",
       "      <td>2.00</td>\n",
       "      <td>0.9106</td>\n",
       "    </tr>\n",
       "    <tr>\n",
       "      <th>3</th>\n",
       "      <td>3.00</td>\n",
       "      <td>0.7792</td>\n",
       "    </tr>\n",
       "    <tr>\n",
       "      <th>4</th>\n",
       "      <td>4.00</td>\n",
       "      <td>0.6609</td>\n",
       "    </tr>\n",
       "  </tbody>\n",
       "</table>\n",
       "</div>"
      ],
      "text/plain": [
       "   Theta   sigma\n",
       "0   0.01  1.0000\n",
       "1   1.00  0.9956\n",
       "2   2.00  0.9106\n",
       "3   3.00  0.7792\n",
       "4   4.00  0.6609"
      ]
     },
     "metadata": {},
     "output_type": "display_data"
    }
   ],
   "source": [
    "results = bfrescox.parse_fort16(Path(\"fort.16\"))\n",
    "display(results[\"channel_1\"].head())"
   ]
  }
 ],
 "metadata": {
  "kernelspec": {
   "display_name": "bfrescox_env",
   "language": "python",
   "name": "python3"
  },
  "language_info": {
   "codemirror_mode": {
    "name": "ipython",
    "version": 3
   },
   "file_extension": ".py",
   "mimetype": "text/x-python",
   "name": "python",
   "nbconvert_exporter": "python",
   "pygments_lexer": "ipython3",
   "version": "3.11.11"
  }
 },
 "nbformat": 4,
 "nbformat_minor": 5
}
