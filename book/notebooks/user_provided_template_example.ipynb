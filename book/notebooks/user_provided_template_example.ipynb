{
 "cells": [
  {
   "cell_type": "code",
   "execution_count": 8,
   "id": "50431fe7",
   "metadata": {},
   "outputs": [],
   "source": [
    "import bfrescox\n",
    "import matplotlib.pyplot as plt\n",
    "import numpy as np\n",
    "from pathlib import Path\n",
    "import inspect\n",
    "import pandas as pd\n"
   ]
  },
  {
   "cell_type": "code",
   "execution_count": 13,
   "id": "ebea55fb",
   "metadata": {},
   "outputs": [],
   "source": [
    "# To use a user-defined input, provide the appropriate path to the template you wish to usee\n",
    "\n",
    "# name of template\n",
    "template_file = \"48Ca_Ozge.template\"\n",
    "\n",
    "\n",
    "\n",
    "# path to template directory\n",
    "template_directory = (\n",
    "    Path(inspect.getfile(bfrescox))\n",
    "    .resolve()\n",
    "    .parent\n",
    "    .joinpath(\"tests\", \"TestData\")\n",
    ")\n",
    "\n",
    "# full path to template file\n",
    "template_file_path = template_directory.joinpath(template_file)\n",
    "\n",
    "# name of frescox input file to be generated\n",
    "frescox_input = \"48Ca_Ozge_user_defined.in\"\n",
    "\n",
    "# name of the frescox output file to be generated (the standard output name)\n",
    "frescox_output = \"48Ca_Ozge_user_defined.out\"\n"
   ]
  },
  {
   "cell_type": "code",
   "execution_count": null,
   "id": "6754d453",
   "metadata": {},
   "outputs": [],
   "source": [
    "# for an user provided template the user must provide the filled out input file with parameter placeholder\n",
    "# here the template looks like:\n",
    "\n",
    "_ = '''\n",
    "48Ca scattering\n",
    "NAMELIST\n",
    " &FRESCO hcm=0.01 rmatch=40 rintp=0.20 hnl=@hnl@ rnl=@rnl@ centre=-0.25\n",
    "\t jtmin=0.0  jtmax=35 absend=-1.0\n",
    "\t thmin=0.00 thmax=180.00 thinc=1.0\n",
    "\t iter=0 iblock=2 nnu=36\n",
    "\t chans=1 treneg=1 xstabl=1\n",
    "         elab(1)= 7.97 /\n",
    "\n",
    " &PARTITION namep='n'  massp=1.0 zp=0\n",
    "            namet='48Ca'  masst= 48. zt=20  nex=1  /\n",
    " &STATES jp=0.5 bandp=1 ep=0.0 cpot=1 jt= 0 bandt= 1 et=0.0000 /\n",
    " &partition /\n",
    "\n",
    "  &pot kp= 1 type= 0  p(1:3)= 1.000  48.  0.00 /\n",
    "  &pot kp= 1 type= 1  p(1:6)= @V@    @r@    @a@     1.0  1.33  0.62 /\n",
    "  &pot kp= 1 type= 2  p(1:6)= 0.0    0.0    0.0     @Ws@ @rs@  @as@ /\n",
    "  &pot kp= 1 type= 3  p(1:6)= 6.6    1.33   0.62    0.0  1.36  0.63 /\n",
    "  &pot /\n",
    " &overlap /\n",
    " &COUPLING /\n",
    "'''"
   ]
  },
  {
   "cell_type": "code",
   "execution_count": 15,
   "id": "71957c44",
   "metadata": {},
   "outputs": [],
   "source": [
    "# you can now pass the parameter values to bfrescox as a dictionary, matching the placeholder names\n",
    "user_defined_parameters =   {\n",
    "                    \"hnl\":  0.1,\n",
    "                    \"rnl\": 5.0,\n",
    "                    \"V\":  49.284900,\n",
    "                    \"r\":   0.907039,\n",
    "                    \"a\":   0.679841,\n",
    "                    \"Ws\":  3.394386,\n",
    "                    \"rs\":  1.094115,\n",
    "                    \"as\":  0.2763\n",
    "                }"
   ]
  },
  {
   "cell_type": "code",
   "execution_count": 16,
   "id": "3bd83dca",
   "metadata": {},
   "outputs": [],
   "source": [
    "# Create the frescox input file by filling in the user-defined template with parameters\n",
    "cfg = bfrescox.Configuration.from_template(\n",
    "                    template_file_path,\n",
    "                    frescox_input,\n",
    "                    user_defined_parameters,\n",
    "                    overwrite=True,\n",
    "                )"
   ]
  },
  {
   "cell_type": "code",
   "execution_count": 17,
   "id": "a0e1e85c",
   "metadata": {},
   "outputs": [],
   "source": [
    "# Run the frescox simulation\n",
    "bfrescox.run_simulation(cfg, frescox_output, cwd=\".\", overwrite=True)"
   ]
  },
  {
   "cell_type": "code",
   "execution_count": 18,
   "id": "73c7b0a1",
   "metadata": {},
   "outputs": [],
   "source": [
    "# Parse the frescox output file to extract differential cross section results\n",
    "results_df = bfrescox.parse_differential_xs.absolute_mb_per_sr(\n",
    "                            frescox_output\n",
    "                        )\n",
    "\n",
    "# Can also parse the results as ratio to Rutherford WHEN AVAILABLE\n",
    "results_df_r2r = bfrescox.parse_differential_xs.ratio_to_rutherford(\n",
    "                            frescox_output\n",
    "                        )"
   ]
  },
  {
   "cell_type": "code",
   "execution_count": 20,
   "id": "ae23654d",
   "metadata": {},
   "outputs": [
    {
     "name": "stdout",
     "output_type": "stream",
     "text": [
      "               differential_xs_absolute_mb_per_sr\n",
      "angle_degrees                                    \n",
      "0.01                                  2286.288392\n",
      "1.00                                  2283.426954\n",
      "2.00                                  2274.861393\n",
      "3.00                                  2260.650634\n",
      "4.00                                  2240.891761\n",
      "Empty DataFrame\n",
      "Columns: [differential_xs_ratio_to_rutherford]\n",
      "Index: []\n"
     ]
    }
   ],
   "source": [
    "print(results_df.head())\n",
    "print(results_df_r2r.head()) # neutron scattering does not have ratio to Rutherford results"
   ]
  },
  {
   "cell_type": "code",
   "execution_count": 24,
   "id": "d864e3b7",
   "metadata": {},
   "outputs": [
    {
     "data": {
      "image/png": "[encoded data removed]",
      "text/plain": [
       "<Figure size 600x500 with 1 Axes>"
      ]
     },
     "metadata": {},
     "output_type": "display_data"
    }
   ],
   "source": [
    "angles_deg = results_df.index.to_numpy()\n",
    "diff_xs_mb_per_sr = results_df[\"differential_xs_absolute_mb_per_sr\"].to_numpy()\n",
    "\n",
    "\n",
    "# Create single figure and axis\n",
    "fig, ax1 = plt.subplots(figsize=(6, 5))\n",
    "\n",
    "# Global font size settings for ticks\n",
    "ax1.tick_params(axis='both', which='major', labelsize=13)\n",
    "ax1.tick_params(axis='both', which='minor', labelsize=11)\n",
    "\n",
    "# Plot differential cross section\n",
    "ax1.plot(angles_deg, diff_xs_mb_per_sr, lw=2.5, color='blue', label='BFrescox Result')\n",
    "ax1.set_yscale('log')\n",
    "ax1.set_ylabel(r\"$\\frac{d\\sigma}{d\\Omega}$ (mb/sr)\", fontsize=14)\n",
    "ax1.set_xlabel(r\"$\\theta$ (deg)\", fontsize=13)\n",
    "\n",
    "# Add annotation\n",
    "ax1.text(50.0, 1e2, r\"$E_{lab} = 7.97$ MeV\",\n",
    "         fontsize=15, color='black')\n",
    "\n",
    "plt.legend(fontsize=14)\n",
    "\n",
    "plt.tight_layout()\n",
    "plt.show()"
   ]
  },
  {
   "cell_type": "code",
   "execution_count": 26,
   "id": "77d96946",
   "metadata": {},
   "outputs": [],
   "source": [
    "# you can always parse your own results from one of the fort files. For example for fort.16 one might use the \n",
    "# following function to parse the angular distributions\n",
    "\n",
    "def parse_fort16(filename: Path):\n",
    "    \"\"\"\n",
    "    Parse a FrescoX fort.16 output into a dict of DataFrames.\n",
    "    Each '@sN ... &' block becomes one entry labeled channel_N,\n",
    "    with all numeric columns and proper names (Theta, sigma, iT11, etc.).\n",
    "\n",
    "    Parameters:\n",
    "    filename : Path\n",
    "        Path to the FrescoX fort.16 output file.\n",
    "\n",
    "    Returns:\n",
    "    dict of pd.DataFrame\n",
    "        Dictionary with keys 'channel_1', 'channel_2', etc., each containing a\n",
    "        DataFrame of the corresponding data.\n",
    "\n",
    "    Raises:\n",
    "    TypeError: If filename is not a string or Path.\n",
    "    ValueError: If the file does not exist.\n",
    "    \"\"\"\n",
    "    if (not isinstance(filename, str)) and (not isinstance(filename, Path)):\n",
    "        raise TypeError(f\"Invalid filename ({filename})\")\n",
    "    path = Path(filename).resolve()\n",
    "    if not path.is_file():\n",
    "        raise ValueError(f\"{path} does not exist or is not a file\")\n",
    "    with open(path, \"r\") as f:\n",
    "        content = f.read()\n",
    "    raw_blocks = content.split(\"&\")  # Split into blocks at \"&\"\n",
    "    results = {}\n",
    "    channel_idx = 1\n",
    "    for block in raw_blocks:\n",
    "        lines = block.splitlines()\n",
    "        # Look for header line (columns after '#')\n",
    "        header = None\n",
    "        for line in lines:\n",
    "            if line.strip().startswith(\"#\") and \"Theta\" in line:\n",
    "                # Remove \"for projectile\" etc. and split\n",
    "                header = line.strip(\"# \").replace(\"for projectile\", \"\").split()\n",
    "                break\n",
    "        # Collect numeric rows\n",
    "        rows = []\n",
    "        for line in lines:\n",
    "            line = line.strip()\n",
    "            if not line or line.startswith((\"#\", \"@\")):\n",
    "                continue\n",
    "            try:\n",
    "                nums = [float(x) for x in line.split()]\n",
    "                rows.append(nums)\n",
    "            except ValueError:\n",
    "                continue\n",
    "        if rows:\n",
    "            df = pd.DataFrame(rows)\n",
    "            # Assign header if available and lengths match\n",
    "            if header and len(header) >= df.shape[1]:\n",
    "                df.columns = header[: df.shape[1]]\n",
    "            else:\n",
    "                df.columns = [f\"col_{i + 1}\" for i in range(df.shape[1])]\n",
    "            results[f\"channel_{channel_idx}\"] = df.reset_index(drop=True)\n",
    "            channel_idx += 1\n",
    "    return results"
   ]
  },
  {
   "cell_type": "code",
   "execution_count": 27,
   "id": "1cb78d4a",
   "metadata": {},
   "outputs": [
    {
     "name": "stdout",
     "output_type": "stream",
     "text": [
      "   Theta   sigma\n",
      "0   0.01  2286.0\n",
      "1   1.00  2283.0\n",
      "2   2.00  2275.0\n",
      "3   3.00  2261.0\n",
      "4   4.00  2241.0\n"
     ]
    }
   ],
   "source": [
    "results = parse_fort16(Path(\"fort.16\"))\n",
    "print(results[\"channel_1\"].head())"
   ]
  },
  {
   "cell_type": "code",
   "execution_count": null,
   "id": "fc0328da",
   "metadata": {},
   "outputs": [],
   "source": []
  }
 ],
 "metadata": {
  "kernelspec": {
   "display_name": "bfrescox_env",
   "language": "python",
   "name": "python3"
  },
  "language_info": {
   "codemirror_mode": {
    "name": "ipython",
    "version": 3
   },
   "file_extension": ".py",
   "mimetype": "text/x-python",
   "name": "python",
   "nbconvert_exporter": "python",
   "pygments_lexer": "ipython3",
   "version": "3.11.11"
  }
 },
 "nbformat": 4,
 "nbformat_minor": 5
}
