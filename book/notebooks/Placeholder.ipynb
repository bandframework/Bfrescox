{
 "cells": [
  {
   "cell_type": "markdown",
   "metadata": {
    "editable": true,
    "slideshow": {
     "slide_type": ""
    },
    "tags": []
   },
   "source": [
    "# I Am a Placeholder for a Real Example\n",
    "\n",
    "Let's use some macros such as {{bfrescox}} and {{bfrescoxpro}} ({{ie}} the packages that we are working with), which is developed as part of {{band}} {{via}} collaboration.\n",
    "\n",
    "We will provide different parameterized models of the general form $f(\\invar; \\psp)$, where $\\invar$ represents the independent, or input, variables; $\\psp$, a point in the model's parameter space $\\PS$.  In many cases, the parameter space is $\\PS = \\R^{\\np}$."
   ]
  },
  {
   "cell_type": "code",
   "execution_count": 1,
   "metadata": {
    "editable": true,
    "slideshow": {
     "slide_type": ""
    },
    "tags": [
     "remove-cell"
    ]
   },
   "outputs": [],
   "source": [
    "# Remove this cell in rendering\n",
    "\n",
    "# Generate a random seed\n",
    "# import secrets\n",
    "# secrets.randbits(128)"
   ]
  },
  {
   "cell_type": "code",
   "execution_count": 2,
   "metadata": {
    "editable": true,
    "slideshow": {
     "slide_type": ""
    },
    "tags": [
     "remove-cell"
    ]
   },
   "outputs": [],
   "source": [
    "# Remove this cell in rendering\n",
    "\n",
    "import json\n",
    "\n",
    "import matplotlib.pyplot as plt\n",
    "\n",
    "\n",
    "with open(\"MatplotlibEsthetics.json\", \"r\") as fptr:\n",
    "    esthetics = json.load(fptr)\n",
    "\n",
    "plt.style.use(esthetics[\"style\"])\n",
    "FONTSIZE      = esthetics[\"fontsize\"]\n",
    "TICK_FONTSIZE = esthetics[\"tick_fontsize\"]\n",
    "MARKERSIZE    = esthetics[\"markersize\"]\n",
    "LINEWIDTH     = esthetics[\"linewidth\"]"
   ]
  },
  {
   "cell_type": "code",
   "execution_count": 3,
   "metadata": {
    "editable": true,
    "slideshow": {
     "slide_type": ""
    },
    "tags": []
   },
   "outputs": [
    {
     "name": "stdout",
     "output_type": "stream",
     "text": [
      "Frescox executable /Users/jared/Projects/BAND/Bfrescox/bfrescox_pypkg/.tox/book/lib/python3.13/site-packages/bfrescox/bin/frescox\n"
     ]
    }
   ],
   "source": [
    "import numpy as np\n",
    "\n",
    "import bfrescox\n",
    "\n",
    "ALPHA = 2.0\n",
    "BETA  = 0.5\n",
    "\n",
    "RNG = np.random.default_rng(39761829560096686505152613678763426794)\n",
    "\n",
    "FRESCOX_TEMPLATE_NAME = \"inelastic\"\n",
    "\n",
    "bfrescox.print_information()"
   ]
  },
  {
   "cell_type": "code",
   "execution_count": 4,
   "metadata": {
    "editable": true,
    "slideshow": {
     "slide_type": ""
    },
    "tags": [
     "remove-input"
    ]
   },
   "outputs": [
    {
     "data": {
      "image/png": "[encoded data removed]",
      "text/plain": [
       "<Figure size 400x400 with 1 Axes>"
      ]
     },
     "metadata": {},
     "output_type": "display_data"
    }
   ],
   "source": [
    "# Remove this cell's input in rendering\n",
    "\n",
    "x_data = np.linspace(-1.1, 2.2, 10)\n",
    "f_data = ALPHA * x_data + BETA\n",
    "\n",
    "fig = plt.figure(1, figsize=(4, 4))\n",
    "\n",
    "subp = fig.add_subplot(111)\n",
    "subp.plot(x_data, f_data, 'o', markersize=MARKERSIZE)\n",
    "subp.set_xlabel(r\"$x$\", fontsize=FONTSIZE)\n",
    "subp.set_ylabel(r\"$f(x; \\alpha, \\beta)$\", fontsize=FONTSIZE)\n",
    "subp.tick_params(axis=\"both\", labelsize=TICK_FONTSIZE)"
   ]
  }
 ],
 "metadata": {
  "jupytext": {
   "formats": "ipynb,py:percent"
  },
  "kernelspec": {
   "display_name": "Python 3 (ipykernel)",
   "language": "python",
   "name": "python3"
  },
  "language_info": {
   "codemirror_mode": {
    "name": "ipython",
    "version": 3
   },
   "file_extension": ".py",
   "mimetype": "text/x-python",
   "name": "python",
   "nbconvert_exporter": "python",
   "pygments_lexer": "ipython3",
   "version": "3.13.7"
  }
 },
 "nbformat": 4,
 "nbformat_minor": 4
}
